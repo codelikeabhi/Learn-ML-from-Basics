{
 "cells": [
  {
   "cell_type": "code",
   "execution_count": 3,
   "id": "0f249776",
   "metadata": {},
   "outputs": [
    {
     "name": "stdout",
     "output_type": "stream",
     "text": [
      "Collecting ydata-profiling\n",
      "  Using cached ydata_profiling-4.6.4-py2.py3-none-any.whl (357 kB)\n",
      "Requirement already satisfied: scipy<1.12,>=1.4.1 in c:\\users\\abhishek\\appdata\\local\\programs\\python\\python311\\lib\\site-packages (from ydata-profiling) (1.11.2)\n",
      "Requirement already satisfied: pandas!=1.4.0,<3,>1.1 in c:\\users\\abhishek\\appdata\\local\\programs\\python\\python311\\lib\\site-packages (from ydata-profiling) (2.0.1)\n",
      "Requirement already satisfied: matplotlib<3.9,>=3.2 in c:\\users\\abhishek\\appdata\\local\\programs\\python\\python311\\lib\\site-packages (from ydata-profiling) (3.7.2)\n",
      "Requirement already satisfied: pydantic>=2 in c:\\users\\abhishek\\appdata\\local\\programs\\python\\python311\\lib\\site-packages (from ydata-profiling) (2.4.2)\n",
      "Requirement already satisfied: PyYAML<6.1,>=5.0.0 in c:\\users\\abhishek\\appdata\\local\\programs\\python\\python311\\lib\\site-packages (from ydata-profiling) (6.0)\n",
      "Requirement already satisfied: jinja2<3.2,>=2.11.1 in c:\\users\\abhishek\\appdata\\local\\programs\\python\\python311\\lib\\site-packages (from ydata-profiling) (3.1.2)\n",
      "Collecting visions[type_image_path]==0.7.5 (from ydata-profiling)\n",
      "  Using cached visions-0.7.5-py3-none-any.whl (102 kB)\n",
      "Requirement already satisfied: numpy<1.26,>=1.16.0 in c:\\users\\abhishek\\appdata\\local\\programs\\python\\python311\\lib\\site-packages (from ydata-profiling) (1.24.3)\n",
      "Requirement already satisfied: htmlmin==0.1.12 in c:\\users\\abhishek\\appdata\\local\\programs\\python\\python311\\lib\\site-packages (from ydata-profiling) (0.1.12)\n",
      "Requirement already satisfied: phik<0.13,>=0.11.1 in c:\\users\\abhishek\\appdata\\local\\programs\\python\\python311\\lib\\site-packages (from ydata-profiling) (0.12.3)\n",
      "Requirement already satisfied: requests<3,>=2.24.0 in c:\\users\\abhishek\\appdata\\local\\programs\\python\\python311\\lib\\site-packages (from ydata-profiling) (2.31.0)\n",
      "Requirement already satisfied: tqdm<5,>=4.48.2 in c:\\users\\abhishek\\appdata\\local\\programs\\python\\python311\\lib\\site-packages (from ydata-profiling) (4.66.1)\n",
      "Collecting seaborn<0.13,>=0.10.1 (from ydata-profiling)\n",
      "  Using cached seaborn-0.12.2-py3-none-any.whl (293 kB)\n",
      "Requirement already satisfied: multimethod<2,>=1.4 in c:\\users\\abhishek\\appdata\\local\\programs\\python\\python311\\lib\\site-packages (from ydata-profiling) (1.10)\n",
      "Collecting statsmodels<1,>=0.13.2 (from ydata-profiling)\n",
      "  Using cached statsmodels-0.14.1-cp311-cp311-win_amd64.whl (9.9 MB)\n",
      "Collecting typeguard<5,>=4.1.2 (from ydata-profiling)\n",
      "  Using cached typeguard-4.1.5-py3-none-any.whl (34 kB)\n",
      "Requirement already satisfied: imagehash==4.3.1 in c:\\users\\abhishek\\appdata\\local\\programs\\python\\python311\\lib\\site-packages (from ydata-profiling) (4.3.1)\n",
      "Collecting wordcloud>=1.9.1 (from ydata-profiling)\n",
      "  Using cached wordcloud-1.9.3-cp311-cp311-win_amd64.whl (300 kB)\n",
      "Collecting dacite>=1.8 (from ydata-profiling)\n",
      "  Using cached dacite-1.8.1-py3-none-any.whl (14 kB)\n",
      "Collecting numba<0.59.0,>=0.56.0 (from ydata-profiling)\n",
      "  Using cached numba-0.58.1-cp311-cp311-win_amd64.whl (2.6 MB)\n",
      "Requirement already satisfied: PyWavelets in c:\\users\\abhishek\\appdata\\local\\programs\\python\\python311\\lib\\site-packages (from imagehash==4.3.1->ydata-profiling) (1.4.1)\n",
      "Requirement already satisfied: pillow in c:\\users\\abhishek\\appdata\\local\\programs\\python\\python311\\lib\\site-packages (from imagehash==4.3.1->ydata-profiling) (9.5.0)\n",
      "Requirement already satisfied: attrs>=19.3.0 in c:\\users\\abhishek\\appdata\\local\\programs\\python\\python311\\lib\\site-packages (from visions[type_image_path]==0.7.5->ydata-profiling) (23.1.0)\n",
      "Requirement already satisfied: networkx>=2.4 in c:\\users\\abhishek\\appdata\\local\\programs\\python\\python311\\lib\\site-packages (from visions[type_image_path]==0.7.5->ydata-profiling) (3.1)\n",
      "Requirement already satisfied: tangled-up-in-unicode>=0.0.4 in c:\\users\\abhishek\\appdata\\local\\programs\\python\\python311\\lib\\site-packages (from visions[type_image_path]==0.7.5->ydata-profiling) (0.2.0)\n",
      "Requirement already satisfied: MarkupSafe>=2.0 in c:\\users\\abhishek\\appdata\\local\\programs\\python\\python311\\lib\\site-packages (from jinja2<3.2,>=2.11.1->ydata-profiling) (2.1.3)\n",
      "Requirement already satisfied: contourpy>=1.0.1 in c:\\users\\abhishek\\appdata\\local\\programs\\python\\python311\\lib\\site-packages (from matplotlib<3.9,>=3.2->ydata-profiling) (1.1.0)\n",
      "Requirement already satisfied: cycler>=0.10 in c:\\users\\abhishek\\appdata\\local\\programs\\python\\python311\\lib\\site-packages (from matplotlib<3.9,>=3.2->ydata-profiling) (0.11.0)\n",
      "Requirement already satisfied: fonttools>=4.22.0 in c:\\users\\abhishek\\appdata\\local\\programs\\python\\python311\\lib\\site-packages (from matplotlib<3.9,>=3.2->ydata-profiling) (4.42.1)\n",
      "Requirement already satisfied: kiwisolver>=1.0.1 in c:\\users\\abhishek\\appdata\\local\\programs\\python\\python311\\lib\\site-packages (from matplotlib<3.9,>=3.2->ydata-profiling) (1.4.4)\n",
      "Requirement already satisfied: packaging>=20.0 in c:\\users\\abhishek\\appdata\\local\\programs\\python\\python311\\lib\\site-packages (from matplotlib<3.9,>=3.2->ydata-profiling) (23.1)\n",
      "Requirement already satisfied: pyparsing<3.1,>=2.3.1 in c:\\users\\abhishek\\appdata\\local\\programs\\python\\python311\\lib\\site-packages (from matplotlib<3.9,>=3.2->ydata-profiling) (3.0.9)\n",
      "Requirement already satisfied: python-dateutil>=2.7 in c:\\users\\abhishek\\appdata\\local\\programs\\python\\python311\\lib\\site-packages (from matplotlib<3.9,>=3.2->ydata-profiling) (2.8.2)\n",
      "Collecting llvmlite<0.42,>=0.41.0dev0 (from numba<0.59.0,>=0.56.0->ydata-profiling)\n",
      "  Using cached llvmlite-0.41.1-cp311-cp311-win_amd64.whl (28.1 MB)\n",
      "Requirement already satisfied: pytz>=2020.1 in c:\\users\\abhishek\\appdata\\local\\programs\\python\\python311\\lib\\site-packages (from pandas!=1.4.0,<3,>1.1->ydata-profiling) (2023.3)\n",
      "Requirement already satisfied: tzdata>=2022.1 in c:\\users\\abhishek\\appdata\\local\\programs\\python\\python311\\lib\\site-packages (from pandas!=1.4.0,<3,>1.1->ydata-profiling) (2023.3)\n",
      "Requirement already satisfied: joblib>=0.14.1 in c:\\users\\abhishek\\appdata\\local\\programs\\python\\python311\\lib\\site-packages (from phik<0.13,>=0.11.1->ydata-profiling) (1.1.1)\n",
      "Requirement already satisfied: annotated-types>=0.4.0 in c:\\users\\abhishek\\appdata\\local\\programs\\python\\python311\\lib\\site-packages (from pydantic>=2->ydata-profiling) (0.6.0)\n",
      "Requirement already satisfied: pydantic-core==2.10.1 in c:\\users\\abhishek\\appdata\\local\\programs\\python\\python311\\lib\\site-packages (from pydantic>=2->ydata-profiling) (2.10.1)\n",
      "Requirement already satisfied: typing-extensions>=4.6.1 in c:\\users\\abhishek\\appdata\\local\\programs\\python\\python311\\lib\\site-packages (from pydantic>=2->ydata-profiling) (4.8.0)\n",
      "Requirement already satisfied: charset-normalizer<4,>=2 in c:\\users\\abhishek\\appdata\\local\\programs\\python\\python311\\lib\\site-packages (from requests<3,>=2.24.0->ydata-profiling) (3.3.0)\n",
      "Requirement already satisfied: idna<4,>=2.5 in c:\\users\\abhishek\\appdata\\local\\programs\\python\\python311\\lib\\site-packages (from requests<3,>=2.24.0->ydata-profiling) (3.4)\n",
      "Requirement already satisfied: urllib3<3,>=1.21.1 in c:\\users\\abhishek\\appdata\\local\\programs\\python\\python311\\lib\\site-packages (from requests<3,>=2.24.0->ydata-profiling) (2.0.5)\n",
      "Requirement already satisfied: certifi>=2017.4.17 in c:\\users\\abhishek\\appdata\\local\\programs\\python\\python311\\lib\\site-packages (from requests<3,>=2.24.0->ydata-profiling) (2023.7.22)\n",
      "Collecting patsy>=0.5.4 (from statsmodels<1,>=0.13.2->ydata-profiling)\n",
      "  Using cached patsy-0.5.6-py2.py3-none-any.whl (233 kB)\n",
      "Requirement already satisfied: colorama in c:\\users\\abhishek\\appdata\\local\\programs\\python\\python311\\lib\\site-packages (from tqdm<5,>=4.48.2->ydata-profiling) (0.4.6)\n",
      "Requirement already satisfied: six in c:\\users\\abhishek\\appdata\\local\\programs\\python\\python311\\lib\\site-packages (from patsy>=0.5.4->statsmodels<1,>=0.13.2->ydata-profiling) (1.16.0)\n",
      "Installing collected packages: typeguard, patsy, llvmlite, dacite, numba, wordcloud, visions, statsmodels, seaborn, ydata-profiling\n",
      "  Attempting uninstall: visions\n",
      "    Found existing installation: visions 0.7.4\n",
      "    Uninstalling visions-0.7.4:\n",
      "      Successfully uninstalled visions-0.7.4\n",
      "  Attempting uninstall: seaborn\n",
      "    Found existing installation: seaborn 0.13.0\n",
      "    Uninstalling seaborn-0.13.0:\n",
      "      Successfully uninstalled seaborn-0.13.0\n",
      "Successfully installed dacite-1.8.1 llvmlite-0.41.1 numba-0.58.1 patsy-0.5.6 seaborn-0.12.2 statsmodels-0.14.1 typeguard-4.1.5 visions-0.7.5 wordcloud-1.9.3 ydata-profiling-4.6.4\n"
     ]
    },
    {
     "name": "stderr",
     "output_type": "stream",
     "text": [
      "ERROR: pip's dependency resolver does not currently take into account all the packages that are installed. This behaviour is the source of the following dependency conflicts.\n",
      "pandas-profiling 3.2.0 requires visions[type_image_path]==0.7.4, but you have visions 0.7.5 which is incompatible.\n",
      "\n",
      "[notice] A new release of pip is available: 23.1.2 -> 23.3.2\n",
      "[notice] To update, run: python.exe -m pip install --upgrade pip\n"
     ]
    }
   ],
   "source": [
    "!pip install ydata-profiling"
   ]
  },
  {
   "cell_type": "code",
   "execution_count": 4,
   "id": "21fd1099",
   "metadata": {},
   "outputs": [],
   "source": [
    "import pandas as pd\n",
    "from ydata_profiling import ProfileReport"
   ]
  },
  {
   "cell_type": "code",
   "execution_count": 5,
   "id": "88b2892c",
   "metadata": {},
   "outputs": [],
   "source": [
    "df = pd.read_csv('titanic.csv')"
   ]
  },
  {
   "cell_type": "code",
   "execution_count": 6,
   "id": "64c9b36c",
   "metadata": {},
   "outputs": [],
   "source": [
    "prof = ProfileReport(df, title='Titanic Analysis Report')"
   ]
  },
  {
   "cell_type": "code",
   "execution_count": 7,
   "id": "f78cfd71",
   "metadata": {},
   "outputs": [
    {
     "data": {
      "application/vnd.jupyter.widget-view+json": {
       "model_id": "7e2d872b837547e6879bff157030fcb0",
       "version_major": 2,
       "version_minor": 0
      },
      "text/plain": [
       "Summarize dataset:   0%|          | 0/5 [00:00<?, ?it/s]"
      ]
     },
     "metadata": {},
     "output_type": "display_data"
    },
    {
     "data": {
      "application/vnd.jupyter.widget-view+json": {
       "model_id": "ff48b2f0fda744659ab347b6cb44d26d",
       "version_major": 2,
       "version_minor": 0
      },
      "text/plain": [
       "Generate report structure:   0%|          | 0/1 [00:00<?, ?it/s]"
      ]
     },
     "metadata": {},
     "output_type": "display_data"
    },
    {
     "data": {
      "application/vnd.jupyter.widget-view+json": {
       "model_id": "521b8af97eee414fbf1a4f194dc40c1d",
       "version_major": 2,
       "version_minor": 0
      },
      "text/plain": [
       "Render HTML:   0%|          | 0/1 [00:00<?, ?it/s]"
      ]
     },
     "metadata": {},
     "output_type": "display_data"
    },
    {
     "data": {
      "application/vnd.jupyter.widget-view+json": {
       "model_id": "605685bbf8ba4ec6849dc648a5044e3d",
       "version_major": 2,
       "version_minor": 0
      },
      "text/plain": [
       "Export report to file:   0%|          | 0/1 [00:00<?, ?it/s]"
      ]
     },
     "metadata": {},
     "output_type": "display_data"
    }
   ],
   "source": [
    "prof.to_file(output_file='output.html')"
   ]
  }
 ],
 "metadata": {
  "kernelspec": {
   "display_name": "Python 3 (ipykernel)",
   "language": "python",
   "name": "python3"
  },
  "language_info": {
   "codemirror_mode": {
    "name": "ipython",
    "version": 3
   },
   "file_extension": ".py",
   "mimetype": "text/x-python",
   "name": "python",
   "nbconvert_exporter": "python",
   "pygments_lexer": "ipython3",
   "version": "3.11.0"
  }
 },
 "nbformat": 4,
 "nbformat_minor": 5
}
