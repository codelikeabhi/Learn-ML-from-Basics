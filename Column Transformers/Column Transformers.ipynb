{
 "cells": [
  {
   "cell_type": "markdown",
   "id": "6d5ffa8c-357c-4f24-967d-555ef12b4b63",
   "metadata": {},
   "source": [
    "# <span style='color:red'>Column Transformers</span>"
   ]
  },
  {
   "cell_type": "markdown",
   "id": "41f19205-58ac-43da-b0f9-78e123003545",
   "metadata": {},
   "source": [
    "## <span style='color:blue'><a href=''>Read In detail about Column Transformers</a></span>"
   ]
  },
  {
   "cell_type": "code",
   "execution_count": 1,
   "id": "4aafe666-fe79-4be3-87f2-1495eacd3383",
   "metadata": {},
   "outputs": [
    {
     "name": "stderr",
     "output_type": "stream",
     "text": [
      "/tmp/ipykernel_37625/1662815981.py:2: DeprecationWarning: \n",
      "Pyarrow will become a required dependency of pandas in the next major release of pandas (pandas 3.0),\n",
      "(to allow more performant data types, such as the Arrow string type, and better interoperability with other libraries)\n",
      "but was not found to be installed on your system.\n",
      "If this would cause problems for you,\n",
      "please provide us feedback at https://github.com/pandas-dev/pandas/issues/54466\n",
      "        \n",
      "  import pandas as pd\n"
     ]
    }
   ],
   "source": [
    "import numpy as np\n",
    "import pandas as pd"
   ]
  },
  {
   "cell_type": "code",
   "execution_count": 2,
   "id": "01b391bc-a35f-4c70-b151-869a5b02c967",
   "metadata": {},
   "outputs": [],
   "source": [
    "df = pd.read_csv('covid.csv')"
   ]
  },
  {
   "cell_type": "code",
   "execution_count": 3,
   "id": "81df666e-c431-4636-b84e-187621b7dd1a",
   "metadata": {},
   "outputs": [
    {
     "data": {
      "text/html": [
       "<div>\n",
       "<style scoped>\n",
       "    .dataframe tbody tr th:only-of-type {\n",
       "        vertical-align: middle;\n",
       "    }\n",
       "\n",
       "    .dataframe tbody tr th {\n",
       "        vertical-align: top;\n",
       "    }\n",
       "\n",
       "    .dataframe thead th {\n",
       "        text-align: right;\n",
       "    }\n",
       "</style>\n",
       "<table border=\"1\" class=\"dataframe\">\n",
       "  <thead>\n",
       "    <tr style=\"text-align: right;\">\n",
       "      <th></th>\n",
       "      <th>age</th>\n",
       "      <th>gender</th>\n",
       "      <th>fever</th>\n",
       "      <th>cough</th>\n",
       "      <th>city</th>\n",
       "      <th>has_covid</th>\n",
       "    </tr>\n",
       "  </thead>\n",
       "  <tbody>\n",
       "    <tr>\n",
       "      <th>0</th>\n",
       "      <td>60</td>\n",
       "      <td>Male</td>\n",
       "      <td>103.0</td>\n",
       "      <td>Mild</td>\n",
       "      <td>Kolkata</td>\n",
       "      <td>No</td>\n",
       "    </tr>\n",
       "    <tr>\n",
       "      <th>1</th>\n",
       "      <td>27</td>\n",
       "      <td>Male</td>\n",
       "      <td>100.0</td>\n",
       "      <td>Mild</td>\n",
       "      <td>Delhi</td>\n",
       "      <td>Yes</td>\n",
       "    </tr>\n",
       "    <tr>\n",
       "      <th>2</th>\n",
       "      <td>42</td>\n",
       "      <td>Male</td>\n",
       "      <td>101.0</td>\n",
       "      <td>Mild</td>\n",
       "      <td>Delhi</td>\n",
       "      <td>No</td>\n",
       "    </tr>\n",
       "    <tr>\n",
       "      <th>3</th>\n",
       "      <td>31</td>\n",
       "      <td>Female</td>\n",
       "      <td>98.0</td>\n",
       "      <td>Mild</td>\n",
       "      <td>Kolkata</td>\n",
       "      <td>No</td>\n",
       "    </tr>\n",
       "    <tr>\n",
       "      <th>4</th>\n",
       "      <td>65</td>\n",
       "      <td>Female</td>\n",
       "      <td>101.0</td>\n",
       "      <td>Mild</td>\n",
       "      <td>Mumbai</td>\n",
       "      <td>No</td>\n",
       "    </tr>\n",
       "  </tbody>\n",
       "</table>\n",
       "</div>"
      ],
      "text/plain": [
       "   age  gender  fever cough     city has_covid\n",
       "0   60    Male  103.0  Mild  Kolkata        No\n",
       "1   27    Male  100.0  Mild    Delhi       Yes\n",
       "2   42    Male  101.0  Mild    Delhi        No\n",
       "3   31  Female   98.0  Mild  Kolkata        No\n",
       "4   65  Female  101.0  Mild   Mumbai        No"
      ]
     },
     "execution_count": 3,
     "metadata": {},
     "output_type": "execute_result"
    }
   ],
   "source": [
    "df.head()"
   ]
  },
  {
   "cell_type": "code",
   "execution_count": 4,
   "id": "021b4206-382e-499e-b89a-e7292e4111c8",
   "metadata": {},
   "outputs": [
    {
     "data": {
      "text/plain": [
       "age           0\n",
       "gender        0\n",
       "fever        10\n",
       "cough         0\n",
       "city          0\n",
       "has_covid     0\n",
       "dtype: int64"
      ]
     },
     "execution_count": 4,
     "metadata": {},
     "output_type": "execute_result"
    }
   ],
   "source": [
    "df.isnull().sum()"
   ]
  },
  {
   "cell_type": "code",
   "execution_count": 5,
   "id": "6abd8555-27c1-4267-a287-9ffdfb7b3df5",
   "metadata": {},
   "outputs": [],
   "source": [
    "from sklearn.model_selection import train_test_split\n",
    "\n",
    "\n",
    "#splitting the dataset\n",
    "X_train, X_test, y_train, y_test = train_test_split(df.drop('has_covid', axis=1), df['has_covid'], test_size = 0.2, random_state = 2) "
   ]
  },
  {
   "cell_type": "code",
   "execution_count": 6,
   "id": "3d34505d-a43b-42aa-a690-922606f06f8d",
   "metadata": {},
   "outputs": [
    {
     "data": {
      "text/plain": [
       "((80, 5), (20, 5))"
      ]
     },
     "execution_count": 6,
     "metadata": {},
     "output_type": "execute_result"
    }
   ],
   "source": [
    "X_train.shape, X_test.shape"
   ]
  },
  {
   "cell_type": "markdown",
   "id": "6f0065c4-f56c-47df-bdda-5eba99be0721",
   "metadata": {},
   "source": [
    "## Imputing and Encoding values Like a Rookie"
   ]
  },
  {
   "cell_type": "code",
   "execution_count": 7,
   "id": "a960c437-6cf7-40e4-b78a-07811632b8cb",
   "metadata": {},
   "outputs": [
    {
     "data": {
      "text/plain": [
       "(80, 1)"
      ]
     },
     "execution_count": 7,
     "metadata": {},
     "output_type": "execute_result"
    }
   ],
   "source": [
    "from sklearn.impute import SimpleImputer\n",
    "\n",
    "si = SimpleImputer()\n",
    "\n",
    "\n",
    "#applying Simple IMputer on fever column of dataset\n",
    "X_train_fever = si.fit_transform(X_train[['fever']])\n",
    "X_test_fever = si.fit_transform(X_test[['fever']])\n",
    "\n",
    "X_train_fever.shape"
   ]
  },
  {
   "cell_type": "code",
   "execution_count": 8,
   "id": "38f5a624-7e58-473b-a264-9e58ddb35b33",
   "metadata": {},
   "outputs": [
    {
     "data": {
      "text/plain": [
       "(80, 1)"
      ]
     },
     "execution_count": 8,
     "metadata": {},
     "output_type": "execute_result"
    }
   ],
   "source": [
    "from sklearn.preprocessing import OrdinalEncoder\n",
    "\n",
    "oe = OrdinalEncoder(categories = [['Mild', 'Strong']])\n",
    "\n",
    "#applying Oordinal Encoding on cough column of dataset\n",
    "X_train_cough = oe.fit_transform(X_train[['cough']])\n",
    "X_test_cough = oe.fit_transform(X_test[['cough']])\n",
    "\n",
    "X_train_cough.shape"
   ]
  },
  {
   "cell_type": "code",
   "execution_count": 9,
   "id": "94615a5b-1e6d-4935-939a-6d7475d8b0d4",
   "metadata": {},
   "outputs": [
    {
     "data": {
      "text/plain": [
       "(80, 4)"
      ]
     },
     "execution_count": 9,
     "metadata": {},
     "output_type": "execute_result"
    }
   ],
   "source": [
    "from sklearn.preprocessing import OneHotEncoder\n",
    "\n",
    "ohe = OneHotEncoder(drop = 'first', sparse_output = False)\n",
    "\n",
    "#applying OHE on two columns of dataset\n",
    "X_train_gender_city = ohe.fit_transform(X_train[['gender', 'city']])\n",
    "X_test_gender_city = ohe.fit_transform(X_test[['gender', 'city']])\n",
    "\n",
    "X_train_gender_city.shape"
   ]
  },
  {
   "cell_type": "code",
   "execution_count": 10,
   "id": "997659e1-29cd-42a7-bc0e-3b601e7564f4",
   "metadata": {},
   "outputs": [
    {
     "data": {
      "text/plain": [
       "(80, 1)"
      ]
     },
     "execution_count": 10,
     "metadata": {},
     "output_type": "execute_result"
    }
   ],
   "source": [
    "# Extracting Age\n",
    "X_train_age = X_train.drop(columns=['gender','fever','cough','city']).values\n",
    "\n",
    "# also the test data\n",
    "X_test_age = X_test.drop(columns=['gender','fever','cough','city']).values\n",
    "\n",
    "X_train_age.shape"
   ]
  },
  {
   "cell_type": "code",
   "execution_count": 11,
   "id": "400ae029-dec0-49ef-9434-29e65072a9b0",
   "metadata": {},
   "outputs": [],
   "source": [
    "# combining all data pieces of train data set \n",
    "X_train_transformed = np.concatenate((X_train_age, X_train_fever, X_train_cough, X_train_gender_city), axis =1)\n",
    "\n",
    "\n",
    "#also of test data set\n",
    "X_test_transformed = np.concatenate((X_test_age, X_test_fever, X_test_cough, X_test_gender_city), axis =1)"
   ]
  },
  {
   "cell_type": "code",
   "execution_count": 12,
   "id": "fe09314f-d0f7-4ae8-92dd-78ef693712f4",
   "metadata": {},
   "outputs": [
    {
     "data": {
      "text/plain": [
       "array([[ 82.        , 102.        ,   1.        ,   0.        ,\n",
       "          0.        ,   0.        ,   0.        ],\n",
       "       [ 65.        ,  98.        ,   0.        ,   0.        ,\n",
       "          0.        ,   0.        ,   1.        ],\n",
       "       [ 69.        ,  98.        ,   1.        ,   0.        ,\n",
       "          0.        ,   0.        ,   1.        ],\n",
       "       [ 20.        , 102.        ,   1.        ,   1.        ,\n",
       "          1.        ,   0.        ,   0.        ],\n",
       "       [ 34.        ,  98.        ,   1.        ,   1.        ,\n",
       "          0.        ,   1.        ,   0.        ],\n",
       "       [ 84.        , 100.79166667,   0.        ,   0.        ,\n",
       "          0.        ,   0.        ,   0.        ],\n",
       "       [ 23.        , 100.79166667,   0.        ,   1.        ,\n",
       "          0.        ,   0.        ,   1.        ],\n",
       "       [  8.        , 101.        ,   0.        ,   0.        ,\n",
       "          0.        ,   1.        ,   0.        ],\n",
       "       [ 34.        , 104.        ,   1.        ,   0.        ,\n",
       "          1.        ,   0.        ,   0.        ],\n",
       "       [ 56.        , 104.        ,   1.        ,   0.        ,\n",
       "          0.        ,   0.        ,   0.        ],\n",
       "       [ 69.        , 102.        ,   0.        ,   0.        ,\n",
       "          0.        ,   0.        ,   0.        ],\n",
       "       [ 27.        , 100.        ,   0.        ,   1.        ,\n",
       "          1.        ,   0.        ,   0.        ],\n",
       "       [ 64.        ,  98.        ,   0.        ,   0.        ,\n",
       "          0.        ,   0.        ,   0.        ],\n",
       "       [ 66.        ,  99.        ,   1.        ,   1.        ,\n",
       "          0.        ,   0.        ,   0.        ],\n",
       "       [ 38.        , 101.        ,   0.        ,   0.        ,\n",
       "          0.        ,   0.        ,   0.        ],\n",
       "       [ 11.        , 100.        ,   0.        ,   1.        ,\n",
       "          0.        ,   0.        ,   0.        ],\n",
       "       [ 14.        , 101.        ,   1.        ,   1.        ,\n",
       "          0.        ,   0.        ,   0.        ],\n",
       "       [ 46.        , 103.        ,   1.        ,   1.        ,\n",
       "          0.        ,   0.        ,   0.        ],\n",
       "       [ 38.        , 100.79166667,   0.        ,   1.        ,\n",
       "          1.        ,   0.        ,   0.        ],\n",
       "       [ 75.        , 100.79166667,   0.        ,   0.        ,\n",
       "          1.        ,   0.        ,   0.        ],\n",
       "       [ 25.        ,  99.        ,   1.        ,   0.        ,\n",
       "          0.        ,   1.        ,   0.        ],\n",
       "       [ 83.        ,  98.        ,   0.        ,   1.        ,\n",
       "          1.        ,   0.        ,   0.        ],\n",
       "       [ 47.        , 101.        ,   1.        ,   1.        ,\n",
       "          0.        ,   0.        ,   0.        ],\n",
       "       [ 60.        ,  99.        ,   0.        ,   0.        ,\n",
       "          0.        ,   0.        ,   1.        ],\n",
       "       [ 12.        , 104.        ,   0.        ,   0.        ,\n",
       "          0.        ,   0.        ,   0.        ],\n",
       "       [ 34.        , 101.        ,   1.        ,   0.        ,\n",
       "          1.        ,   0.        ,   0.        ],\n",
       "       [ 42.        , 100.79166667,   1.        ,   0.        ,\n",
       "          0.        ,   0.        ,   0.        ],\n",
       "       [ 19.        , 100.        ,   0.        ,   0.        ,\n",
       "          0.        ,   1.        ,   0.        ],\n",
       "       [ 24.        , 102.        ,   1.        ,   0.        ,\n",
       "          0.        ,   0.        ,   0.        ],\n",
       "       [ 81.        , 101.        ,   0.        ,   0.        ,\n",
       "          0.        ,   0.        ,   1.        ],\n",
       "       [ 64.        , 101.        ,   0.        ,   0.        ,\n",
       "          1.        ,   0.        ,   0.        ],\n",
       "       [ 51.        , 101.        ,   1.        ,   0.        ,\n",
       "          0.        ,   1.        ,   0.        ],\n",
       "       [ 40.        ,  98.        ,   1.        ,   0.        ,\n",
       "          1.        ,   0.        ,   0.        ],\n",
       "       [  6.        , 104.        ,   0.        ,   0.        ,\n",
       "          0.        ,   1.        ,   0.        ],\n",
       "       [ 49.        ,  99.        ,   1.        ,   0.        ,\n",
       "          0.        ,   0.        ,   0.        ],\n",
       "       [ 82.        , 100.79166667,   0.        ,   1.        ,\n",
       "          0.        ,   1.        ,   0.        ],\n",
       "       [ 42.        , 104.        ,   0.        ,   1.        ,\n",
       "          0.        ,   0.        ,   1.        ],\n",
       "       [ 72.        ,  99.        ,   0.        ,   1.        ,\n",
       "          0.        ,   0.        ,   0.        ],\n",
       "       [ 20.        , 101.        ,   0.        ,   0.        ,\n",
       "          0.        ,   0.        ,   0.        ],\n",
       "       [ 19.        , 100.        ,   1.        ,   0.        ,\n",
       "          0.        ,   0.        ,   0.        ],\n",
       "       [ 75.        , 104.        ,   1.        ,   0.        ,\n",
       "          1.        ,   0.        ,   0.        ],\n",
       "       [ 79.        , 100.79166667,   1.        ,   1.        ,\n",
       "          0.        ,   1.        ,   0.        ],\n",
       "       [ 59.        ,  99.        ,   1.        ,   0.        ,\n",
       "          1.        ,   0.        ,   0.        ],\n",
       "       [  5.        ,  98.        ,   1.        ,   0.        ,\n",
       "          0.        ,   0.        ,   1.        ],\n",
       "       [ 25.        , 104.        ,   0.        ,   1.        ,\n",
       "          0.        ,   0.        ,   0.        ],\n",
       "       [ 14.        ,  99.        ,   0.        ,   0.        ,\n",
       "          0.        ,   0.        ,   1.        ],\n",
       "       [ 19.        , 101.        ,   0.        ,   1.        ,\n",
       "          1.        ,   0.        ,   0.        ],\n",
       "       [ 47.        , 100.        ,   1.        ,   0.        ,\n",
       "          0.        ,   0.        ,   0.        ],\n",
       "       [ 51.        , 104.        ,   0.        ,   1.        ,\n",
       "          0.        ,   1.        ,   0.        ],\n",
       "       [  5.        , 100.        ,   0.        ,   0.        ,\n",
       "          0.        ,   1.        ,   0.        ],\n",
       "       [ 68.        , 101.        ,   1.        ,   0.        ,\n",
       "          1.        ,   0.        ,   0.        ],\n",
       "       [ 19.        , 101.        ,   0.        ,   0.        ,\n",
       "          0.        ,   0.        ,   1.        ],\n",
       "       [ 54.        , 104.        ,   1.        ,   0.        ,\n",
       "          0.        ,   1.        ,   0.        ],\n",
       "       [ 73.        , 103.        ,   0.        ,   0.        ,\n",
       "          1.        ,   0.        ,   0.        ],\n",
       "       [ 65.        ,  99.        ,   0.        ,   1.        ,\n",
       "          1.        ,   0.        ,   0.        ],\n",
       "       [ 23.        ,  98.        ,   1.        ,   1.        ,\n",
       "          0.        ,   0.        ,   1.        ],\n",
       "       [ 26.        ,  98.        ,   0.        ,   0.        ,\n",
       "          0.        ,   1.        ,   0.        ],\n",
       "       [ 49.        , 101.        ,   0.        ,   0.        ,\n",
       "          1.        ,   0.        ,   0.        ],\n",
       "       [ 11.        , 100.        ,   1.        ,   0.        ,\n",
       "          0.        ,   1.        ,   0.        ],\n",
       "       [ 27.        , 100.        ,   0.        ,   1.        ,\n",
       "          1.        ,   0.        ,   0.        ],\n",
       "       [ 65.        , 101.        ,   0.        ,   0.        ,\n",
       "          0.        ,   0.        ,   1.        ],\n",
       "       [ 65.        ,  99.        ,   0.        ,   1.        ,\n",
       "          0.        ,   0.        ,   0.        ],\n",
       "       [ 50.        , 103.        ,   0.        ,   0.        ,\n",
       "          0.        ,   1.        ,   0.        ],\n",
       "       [ 55.        , 100.        ,   0.        ,   1.        ,\n",
       "          0.        ,   1.        ,   0.        ],\n",
       "       [ 12.        ,  98.        ,   1.        ,   1.        ,\n",
       "          0.        ,   0.        ,   0.        ],\n",
       "       [ 83.        , 103.        ,   0.        ,   1.        ,\n",
       "          0.        ,   1.        ,   0.        ],\n",
       "       [ 10.        , 100.        ,   0.        ,   1.        ,\n",
       "          0.        ,   0.        ,   0.        ],\n",
       "       [ 18.        , 104.        ,   0.        ,   0.        ,\n",
       "          0.        ,   0.        ,   0.        ],\n",
       "       [ 16.        , 103.        ,   0.        ,   0.        ,\n",
       "          0.        ,   0.        ,   0.        ],\n",
       "       [ 27.        , 100.        ,   0.        ,   1.        ,\n",
       "          0.        ,   1.        ,   0.        ],\n",
       "       [ 44.        , 104.        ,   0.        ,   1.        ,\n",
       "          0.        ,   0.        ,   1.        ],\n",
       "       [ 74.        , 102.        ,   0.        ,   1.        ,\n",
       "          0.        ,   0.        ,   1.        ],\n",
       "       [ 20.        , 100.79166667,   1.        ,   0.        ,\n",
       "          0.        ,   0.        ,   1.        ],\n",
       "       [  5.        , 102.        ,   0.        ,   1.        ,\n",
       "          0.        ,   1.        ,   0.        ],\n",
       "       [ 24.        ,  98.        ,   0.        ,   1.        ,\n",
       "          0.        ,   1.        ,   0.        ],\n",
       "       [ 22.        ,  99.        ,   0.        ,   0.        ,\n",
       "          0.        ,   0.        ,   0.        ],\n",
       "       [ 71.        ,  98.        ,   1.        ,   0.        ,\n",
       "          0.        ,   1.        ,   0.        ],\n",
       "       [ 83.        , 101.        ,   0.        ,   0.        ,\n",
       "          0.        ,   1.        ,   0.        ],\n",
       "       [ 70.        , 103.        ,   1.        ,   1.        ,\n",
       "          0.        ,   1.        ,   0.        ],\n",
       "       [ 49.        , 102.        ,   0.        ,   0.        ,\n",
       "          1.        ,   0.        ,   0.        ]])"
      ]
     },
     "execution_count": 12,
     "metadata": {},
     "output_type": "execute_result"
    }
   ],
   "source": [
    "X_train_transformed"
   ]
  },
  {
   "cell_type": "code",
   "execution_count": 13,
   "id": "6d32c3f9-f270-45b5-ad2f-af4a834c3793",
   "metadata": {},
   "outputs": [
    {
     "data": {
      "text/plain": [
       "(80, 7)"
      ]
     },
     "execution_count": 13,
     "metadata": {},
     "output_type": "execute_result"
    }
   ],
   "source": [
    "X_train_transformed.shape"
   ]
  },
  {
   "cell_type": "code",
   "execution_count": 14,
   "id": "20c1267c-fd36-4daa-96b3-d8f625ccb697",
   "metadata": {},
   "outputs": [
    {
     "data": {
      "text/plain": [
       "(20, 7)"
      ]
     },
     "execution_count": 14,
     "metadata": {},
     "output_type": "execute_result"
    }
   ],
   "source": [
    "X_test_transformed.shape"
   ]
  },
  {
   "cell_type": "markdown",
   "id": "48935079-bb0a-44fe-ba98-2d15d0bb55ef",
   "metadata": {},
   "source": [
    "## Perform the same task like a PRO "
   ]
  },
  {
   "cell_type": "code",
   "execution_count": 15,
   "id": "d816b44d-d664-41d5-9314-7c6cee67620c",
   "metadata": {},
   "outputs": [],
   "source": [
    "from sklearn.compose import ColumnTransformer"
   ]
  },
  {
   "cell_type": "code",
   "execution_count": 16,
   "id": "9e2dc356-9abd-46e4-9515-89882c482a29",
   "metadata": {},
   "outputs": [],
   "source": [
    "#Applying Column Transformer on all columns at once\n",
    "\n",
    "transformer = ColumnTransformer(transformers=[\n",
    "    ('trf1', SimpleImputer(), ['fever']),\n",
    "    ('trf2', OrdinalEncoder(categories=[['Mild', 'Strong']]), ['cough']),\n",
    "    ('trf3', OneHotEncoder(drop='first', sparse_output = False), ['gender', 'city']),\n",
    "], remainder = 'passthrough')"
   ]
  },
  {
   "cell_type": "code",
   "execution_count": 17,
   "id": "2f9457aa-c3db-465e-a857-632f48776cc4",
   "metadata": {},
   "outputs": [
    {
     "data": {
      "text/plain": [
       "(80, 7)"
      ]
     },
     "execution_count": 17,
     "metadata": {},
     "output_type": "execute_result"
    }
   ],
   "source": [
    "transformer.fit_transform(X_train).shape"
   ]
  },
  {
   "cell_type": "code",
   "execution_count": 18,
   "id": "41249c53-28f6-4c6b-a247-51623f51a87d",
   "metadata": {},
   "outputs": [
    {
     "data": {
      "text/plain": [
       "(20, 7)"
      ]
     },
     "execution_count": 18,
     "metadata": {},
     "output_type": "execute_result"
    }
   ],
   "source": [
    "transformer.transform(X_test).shape"
   ]
  }
 ],
 "metadata": {
  "kernelspec": {
   "display_name": "Python 3 (ipykernel)",
   "language": "python",
   "name": "python3"
  },
  "language_info": {
   "codemirror_mode": {
    "name": "ipython",
    "version": 3
   },
   "file_extension": ".py",
   "mimetype": "text/x-python",
   "name": "python",
   "nbconvert_exporter": "python",
   "pygments_lexer": "ipython3",
   "version": "3.10.12"
  }
 },
 "nbformat": 4,
 "nbformat_minor": 5
}
